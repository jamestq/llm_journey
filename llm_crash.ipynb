{
 "cells": [
  {
   "cell_type": "code",
   "execution_count": 7,
   "id": "341ad279",
   "metadata": {},
   "outputs": [
    {
     "name": "stdout",
     "output_type": "stream",
     "text": [
      "Requirement already satisfied: transformers in ./venvs/lib/python3.12/site-packages (4.52.4)\n",
      "Requirement already satisfied: torch in ./venvs/lib/python3.12/site-packages (2.7.1)\n",
      "Requirement already satisfied: filelock in ./venvs/lib/python3.12/site-packages (from transformers) (3.18.0)\n",
      "Requirement already satisfied: huggingface-hub<1.0,>=0.30.0 in ./venvs/lib/python3.12/site-packages (from transformers) (0.33.0)\n",
      "Requirement already satisfied: numpy>=1.17 in ./venvs/lib/python3.12/site-packages (from transformers) (2.3.0)\n",
      "Requirement already satisfied: packaging>=20.0 in ./venvs/lib/python3.12/site-packages (from transformers) (25.0)\n",
      "Requirement already satisfied: pyyaml>=5.1 in ./venvs/lib/python3.12/site-packages (from transformers) (6.0.2)\n",
      "Requirement already satisfied: regex!=2019.12.17 in ./venvs/lib/python3.12/site-packages (from transformers) (2024.11.6)\n",
      "Requirement already satisfied: requests in ./venvs/lib/python3.12/site-packages (from transformers) (2.32.4)\n",
      "Requirement already satisfied: tokenizers<0.22,>=0.21 in ./venvs/lib/python3.12/site-packages (from transformers) (0.21.1)\n",
      "Requirement already satisfied: safetensors>=0.4.3 in ./venvs/lib/python3.12/site-packages (from transformers) (0.5.3)\n",
      "Requirement already satisfied: tqdm>=4.27 in ./venvs/lib/python3.12/site-packages (from transformers) (4.67.1)\n",
      "Requirement already satisfied: typing-extensions>=4.10.0 in ./venvs/lib/python3.12/site-packages (from torch) (4.14.0)\n",
      "Requirement already satisfied: setuptools in ./venvs/lib/python3.12/site-packages (from torch) (80.9.0)\n",
      "Requirement already satisfied: sympy>=1.13.3 in ./venvs/lib/python3.12/site-packages (from torch) (1.14.0)\n",
      "Requirement already satisfied: networkx in ./venvs/lib/python3.12/site-packages (from torch) (3.5)\n",
      "Requirement already satisfied: jinja2 in ./venvs/lib/python3.12/site-packages (from torch) (3.1.6)\n",
      "Requirement already satisfied: fsspec in ./venvs/lib/python3.12/site-packages (from torch) (2025.5.1)\n",
      "Requirement already satisfied: hf-xet<2.0.0,>=1.1.2 in ./venvs/lib/python3.12/site-packages (from huggingface-hub<1.0,>=0.30.0->transformers) (1.1.3)\n",
      "Requirement already satisfied: mpmath<1.4,>=1.1.0 in ./venvs/lib/python3.12/site-packages (from sympy>=1.13.3->torch) (1.3.0)\n",
      "Requirement already satisfied: MarkupSafe>=2.0 in ./venvs/lib/python3.12/site-packages (from jinja2->torch) (3.0.2)\n",
      "Requirement already satisfied: charset_normalizer<4,>=2 in ./venvs/lib/python3.12/site-packages (from requests->transformers) (3.4.2)\n",
      "Requirement already satisfied: idna<4,>=2.5 in ./venvs/lib/python3.12/site-packages (from requests->transformers) (3.10)\n",
      "Requirement already satisfied: urllib3<3,>=1.21.1 in ./venvs/lib/python3.12/site-packages (from requests->transformers) (2.4.0)\n",
      "Requirement already satisfied: certifi>=2017.4.17 in ./venvs/lib/python3.12/site-packages (from requests->transformers) (2025.4.26)\n",
      "\n",
      "\u001b[1m[\u001b[0m\u001b[34;49mnotice\u001b[0m\u001b[1;39;49m]\u001b[0m\u001b[39;49m A new release of pip is available: \u001b[0m\u001b[31;49m24.2\u001b[0m\u001b[39;49m -> \u001b[0m\u001b[32;49m25.1.1\u001b[0m\n",
      "\u001b[1m[\u001b[0m\u001b[34;49mnotice\u001b[0m\u001b[1;39;49m]\u001b[0m\u001b[39;49m To update, run: \u001b[0m\u001b[32;49mpip install --upgrade pip\u001b[0m\n"
     ]
    }
   ],
   "source": [
    "!pip install transformers torch\n",
    "import pprint"
   ]
  },
  {
   "cell_type": "code",
   "execution_count": 4,
   "id": "d8c0cdfd",
   "metadata": {},
   "outputs": [
    {
     "name": "stderr",
     "output_type": "stream",
     "text": [
      "No model was supplied, defaulted to distilbert/distilbert-base-uncased-finetuned-sst-2-english and revision 714eb0f (https://huggingface.co/distilbert/distilbert-base-uncased-finetuned-sst-2-english).\n",
      "Using a pipeline without specifying a model name and revision in production is not recommended.\n",
      "Device set to use mps:0\n"
     ]
    },
    {
     "data": {
      "text/plain": [
       "[{'label': 'POSITIVE', 'score': 0.9998000264167786},\n",
       " {'label': 'NEGATIVE', 'score': 0.9983810186386108}]"
      ]
     },
     "execution_count": 4,
     "metadata": {},
     "output_type": "execute_result"
    }
   ],
   "source": [
    "from transformers import pipeline\n",
    "\n",
    "classifier = pipeline(\"sentiment-analysis\")\n",
    "classifier([\n",
    "    \"I've been waiting for a long time, and I'm really excited about this new feature!\", \n",
    "    \"I don't want to do this anymore\",\n",
    "])"
   ]
  },
  {
   "cell_type": "code",
   "execution_count": 5,
   "id": "8ca7bee9",
   "metadata": {},
   "outputs": [],
   "source": [
    "# Getting the tokenizer from the model\n",
    "from transformers import AutoTokenizer\n",
    "checkpoint = \"distilbert-base-uncased-finetuned-sst-2-english\"\n",
    "tokenizer = AutoTokenizer.from_pretrained(checkpoint)"
   ]
  },
  {
   "cell_type": "code",
   "execution_count": 16,
   "id": "cd51d764",
   "metadata": {},
   "outputs": [
    {
     "name": "stdout",
     "output_type": "stream",
     "text": [
      "torch.Size([23])\n"
     ]
    }
   ],
   "source": [
    "raw_inputs = [\n",
    "    \"I've been waiting for a long time, and I'm really excited about this new feature!\",\n",
    "    \"I don't want to do this anymore\",\n",
    "]\n",
    "inputs = tokenizer(raw_inputs, padding=True, truncation=True, return_tensors=\"pt\")\n",
    "pprint.pp(inputs[\"input_ids\"][1].size())"
   ]
  },
  {
   "cell_type": "code",
   "execution_count": null,
   "id": "c42440c0",
   "metadata": {},
   "outputs": [],
   "source": [
    "\"\"\"\n",
    " This retrieves the checkpoint and loads the model.\n",
    " It only loads the base model, which outputs hidden states, also known as features. \n",
    "\"\"\"\n",
    "from transformers import AutoModel\n",
    "\n",
    "checkpoint = \"distilbert-base-uncased-finetuned-sst-2-english\"\n",
    "model = AutoModel.from_pretrained(checkpoint)"
   ]
  },
  {
   "cell_type": "code",
   "execution_count": 27,
   "id": "4a21cbea",
   "metadata": {},
   "outputs": [
    {
     "name": "stdout",
     "output_type": "stream",
     "text": [
      "torch.Size([2, 23, 768])\n",
      "BaseModelOutput(last_hidden_state=tensor([[[ 0.6624,  0.1321,  0.3554,  ...,  0.3924,  0.8493, -0.5336],\n",
      "         [ 1.1194,  0.4005,  0.1795,  ...,  0.2101,  1.0571, -0.0928],\n",
      "         [ 1.4226,  0.1522,  0.4107,  ...,  0.7130,  0.1705, -0.8750],\n",
      "         ...,\n",
      "         [ 0.7327,  0.2963,  0.3484,  ...,  0.4382,  0.5833, -0.3171],\n",
      "         [ 0.7167,  0.1841,  0.1809,  ...,  0.3667,  0.7874, -0.3829],\n",
      "         [ 0.8304,  0.1011,  0.4583,  ...,  0.4955,  0.7535, -0.6079]],\n",
      "\n",
      "        [[-0.2206,  0.6148,  0.4590,  ...,  0.2267, -0.7586,  0.2361],\n",
      "         [-0.1971,  0.7545,  0.3374,  ...,  0.0924, -0.5861,  0.1437],\n",
      "         [-0.4712,  0.8037,  0.6487,  ...,  0.0371, -0.7031, -0.0427],\n",
      "         ...,\n",
      "         [-0.1700,  0.5407,  0.0977,  ...,  0.1877, -0.6209, -0.0272],\n",
      "         [-0.2191,  0.5828,  0.2055,  ...,  0.0163, -0.6439, -0.1589],\n",
      "         [-0.2642,  0.3918,  0.3973,  ..., -0.2437, -0.6255, -0.0780]]],\n",
      "       grad_fn=<NativeLayerNormBackward0>),\n",
      "                hidden_states=None,\n",
      "                attentions=None)\n"
     ]
    }
   ],
   "source": [
    "outputs = model(**inputs)\n",
    "pprint.pp(outputs.last_hidden_state.shape)\n",
    "pprint.pp(outputs)"
   ]
  },
  {
   "cell_type": "code",
   "execution_count": 31,
   "id": "ff17d48b",
   "metadata": {},
   "outputs": [
    {
     "name": "stdout",
     "output_type": "stream",
     "text": [
      "torch.Size([2, 2])\n",
      "SequenceClassifierOutput(loss=None,\n",
      "                         logits=tensor([[-4.1100,  4.4068],\n",
      "        [ 3.4950, -2.9293]], grad_fn=<AddmmBackward0>),\n",
      "                         hidden_states=None,\n",
      "                         attentions=None)\n"
     ]
    }
   ],
   "source": [
    "\"\"\"\n",
    " In order to get an output that is interpretable, we need to get a model with a sequence classification head.\n",
    " In this case, the AutoModelForSequenceClassification class is used.\n",
    "\"\"\"\n",
    "\n",
    "from transformers import AutoModelForSequenceClassification\n",
    "checkpoint = \"distilbert-base-uncased-finetuned-sst-2-english\"\n",
    "model = AutoModelForSequenceClassification.from_pretrained(checkpoint)\n",
    "outputs = model(**inputs)\n",
    "pprint.pp(outputs.logits.shape)\n",
    "pprint.pp(outputs)"
   ]
  },
  {
   "cell_type": "code",
   "execution_count": 32,
   "id": "a20e97a5",
   "metadata": {},
   "outputs": [
    {
     "name": "stdout",
     "output_type": "stream",
     "text": [
      "tensor([[2.0005e-04, 9.9980e-01],\n",
      "        [9.9838e-01, 1.6190e-03]], grad_fn=<SoftmaxBackward0>)\n"
     ]
    }
   ],
   "source": [
    "import torch\n",
    "\n",
    "predictions = torch.nn.functional.softmax(outputs.logits, dim=-1)\n",
    "print(predictions)"
   ]
  },
  {
   "cell_type": "code",
   "execution_count": 33,
   "id": "db06e841",
   "metadata": {},
   "outputs": [
    {
     "data": {
      "text/plain": [
       "{0: 'NEGATIVE', 1: 'POSITIVE'}"
      ]
     },
     "execution_count": 33,
     "metadata": {},
     "output_type": "execute_result"
    }
   ],
   "source": [
    "model.config.id2label"
   ]
  },
  {
   "cell_type": "code",
   "execution_count": null,
   "id": "642f73bc",
   "metadata": {},
   "outputs": [],
   "source": []
  },
  {
   "cell_type": "code",
   "execution_count": null,
   "id": "bf86696a",
   "metadata": {},
   "outputs": [],
   "source": []
  }
 ],
 "metadata": {
  "kernelspec": {
   "display_name": "venvs",
   "language": "python",
   "name": "python3"
  },
  "language_info": {
   "codemirror_mode": {
    "name": "ipython",
    "version": 3
   },
   "file_extension": ".py",
   "mimetype": "text/x-python",
   "name": "python",
   "nbconvert_exporter": "python",
   "pygments_lexer": "ipython3",
   "version": "3.12.5"
  }
 },
 "nbformat": 4,
 "nbformat_minor": 5
}
